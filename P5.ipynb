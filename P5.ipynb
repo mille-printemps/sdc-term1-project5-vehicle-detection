{
 "cells": [
  {
   "cell_type": "code",
   "execution_count": 19,
   "metadata": {
    "collapsed": false
   },
   "outputs": [],
   "source": [
    "import glob\n",
    "import time\n",
    "import cv2\n",
    "import numpy as np\n",
    "import matplotlib.pyplot as plt\n",
    "import matplotlib.image as mpimg\n",
    "from sklearn.svm import LinearSVC\n",
    "from sklearn.model_selection import train_test_split\n",
    "from sklearn.preprocessing import StandardScaler\n",
    "from skimage.feature import hog\n"
   ]
  },
  {
   "cell_type": "code",
   "execution_count": 20,
   "metadata": {
    "collapsed": true
   },
   "outputs": [],
   "source": [
    "# Color features\n",
    "\n",
    "def getSpatialFeatures(image, size=(32, 32)):\n",
    "    '''\n",
    "    Create the feature vector using cv2.resize().ravel()\n",
    "    '''\n",
    "    features = cv2.resize(image, size).ravel() \n",
    "    return features\n",
    "\n",
    "def getHistFeatures(image, numberOfBins=32, binRange=(0, 256)):\n",
    "    '''\n",
    "    Compute the histogram of the color channels separately\n",
    "    '''\n",
    "    channelHist1 = np.histogram(image[:,:,0], bins=numberOfBins, range=binRange)\n",
    "    channelHist2 = np.histogram(image[:,:,1], bins=numberOfBins, range=binRange)\n",
    "    channelHist3 = np.histogram(image[:,:,2], bins=numberOfBins, range=binRange)\n",
    "    histFeatures = np.concatenate((channelHist1[0], channelHist2[0], channelHist3[0]))\n",
    "    return histFeatures\n",
    "\n",
    "def getColorFeatures(image, size=(32, 32), numberOfBins=32, binRange=(0, 256)):\n",
    "    '''\n",
    "    Get spatial features and histogram features of colors\n",
    "    '''\n",
    "    spatialFeatures = getSpatialFeatures(image, size)\n",
    "    histFeatures = getHistFeatures(image, numberOfBins, binRange)\n",
    "    return np.concatenate(spatialFeatures, histFeatures)\n"
   ]
  },
  {
   "cell_type": "code",
   "execution_count": 21,
   "metadata": {
    "collapsed": true
   },
   "outputs": [],
   "source": [
    "# HOG features\n",
    "\n",
    "def getGradientFeatures(image, orientations, pixelPerCell, cellPerBlock, visualise=False, featureVector=True):\n",
    "    '''\n",
    "    Get HOG features\n",
    "    '''\n",
    "    # Call with two outputs if vis==True\n",
    "    if visualise == True:\n",
    "        features, hogImage = hog(image, orientations=orientations, pixels_per_cell=(pixelPerCell, pixelPerCell), \n",
    "                                 cells_per_block=(cellPerBlock, cellPerBlock), transform_sqrt=True, \n",
    "                                 visualise=visualise, feature_vector=featureVector)\n",
    "        return features, hogImage\n",
    "    # Otherwise call with one output\n",
    "    else:      \n",
    "        features = hog(image, orientations=orientations, pixels_per_cell=(pixelPerCell, pixelPerCell),\n",
    "                       cells_per_block=(cellPerBlock, cellPerBlock), transform_sqrt=True, \n",
    "                       visualise=visualise, feature_vector=featureVector)\n",
    "        return features\n",
    "\n",
    "    \n",
    "def getHogFeatures(image, orientations, pixelPerCell, cellPerBlock, visualise, featureVector, hogChannel):\n",
    "    '''\n",
    "    Get HOG features for all channels or a single channel\n",
    "    '''\n",
    "    if hogChannel == 'ALL':\n",
    "        hogFeatures = []\n",
    "        for channel in range(image.shape[2]):\n",
    "            hogFeatures.append(getGradientFeatures(image[:,:,channel], orientations, \n",
    "                                                   pixelPerCell, cellPerBlock, visualise, featureVector))\n",
    "            hogFeatures = np.ravel(hogFeatures)        \n",
    "    else:\n",
    "        hogFeatures = getGradientFeatures(image[:,:,hogChannel], orientations, \n",
    "                                          pixelPerCell, cellPerBlock, visualise, featureVector)\n",
    "        \n",
    "    return hogFeatures\n",
    "    "
   ]
  },
  {
   "cell_type": "code",
   "execution_count": 22,
   "metadata": {
    "collapsed": false
   },
   "outputs": [],
   "source": [
    "# \n",
    "\n",
    "def extractFeatures(images, colorSpace, featureFunction, **featureFunctionArguments):\n",
    "    '''\n",
    "    Extract features of the images using the featureFunction\n",
    "    '''\n",
    "    features = []\n",
    "    for file in images:\n",
    "        image = mpimg.imread(file)\n",
    "        # apply color conversion if other than 'RGB'\n",
    "        if colorSpace != 'RGB':\n",
    "            if colorSpace == 'HSV':\n",
    "                featureImage = cv2.cvtColor(image, cv2.COLOR_RGB2HSV)\n",
    "            elif colorSpace == 'LUV':\n",
    "                featureImage = cv2.cvtColor(image, cv2.COLOR_RGB2LUV)\n",
    "            elif colorSpace == 'HLS':\n",
    "                featureImage = cv2.cvtColor(image, cv2.COLOR_RGB2HLS)\n",
    "            elif colorSpace == 'YUV':\n",
    "                featureImage = cv2.cvtColor(image, cv2.COLOR_RGB2YUV)\n",
    "            elif colorSpace == 'YCrCb':\n",
    "                featureImage = cv2.cvtColor(image, cv2.COLOR_RGB2YCrCb)\n",
    "        else:\n",
    "            featureImage = np.copy(image)\n",
    "            \n",
    "        features.append(featureFunction(featureImage, **featureFunctionArguments))\n",
    "    \n",
    "    return features"
   ]
  },
  {
   "cell_type": "code",
   "execution_count": null,
   "metadata": {
    "collapsed": true
   },
   "outputs": [],
   "source": [
    "\n"
   ]
  }
 ],
 "metadata": {
  "kernelspec": {
   "display_name": "Python 3",
   "language": "python",
   "name": "python3"
  },
  "language_info": {
   "codemirror_mode": {
    "name": "ipython",
    "version": 3
   },
   "file_extension": ".py",
   "mimetype": "text/x-python",
   "name": "python",
   "nbconvert_exporter": "python",
   "pygments_lexer": "ipython3",
   "version": "3.5.2"
  },
  "widgets": {
   "state": {},
   "version": "1.1.2"
  }
 },
 "nbformat": 4,
 "nbformat_minor": 2
}
